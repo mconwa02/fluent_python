{
 "cells": [
  {
   "cell_type": "code",
   "execution_count": 1,
   "id": "40e4303b",
   "metadata": {},
   "outputs": [],
   "source": [
    "from collections import abc"
   ]
  },
  {
   "cell_type": "code",
   "execution_count": 2,
   "id": "715b3d91",
   "metadata": {},
   "outputs": [
    {
     "data": {
      "text/plain": [
       "True"
      ]
     },
     "execution_count": 2,
     "metadata": {},
     "output_type": "execute_result"
    }
   ],
   "source": [
    "issubclass(tuple, abc.Sequence)"
   ]
  },
  {
   "cell_type": "code",
   "execution_count": 3,
   "id": "8c052331",
   "metadata": {},
   "outputs": [
    {
     "data": {
      "text/plain": [
       "True"
      ]
     },
     "execution_count": 3,
     "metadata": {},
     "output_type": "execute_result"
    }
   ],
   "source": [
    "issubclass(list, abc.MutableSequence)"
   ]
  },
  {
   "cell_type": "markdown",
   "id": "d8e5ce9a",
   "metadata": {},
   "source": [
    "### List Comprehensions and Readability"
   ]
  },
  {
   "cell_type": "code",
   "execution_count": 4,
   "id": "5344b65d",
   "metadata": {},
   "outputs": [],
   "source": [
    "symbols = '$¢£¥€¤'"
   ]
  },
  {
   "cell_type": "code",
   "execution_count": 5,
   "id": "9e9eb525",
   "metadata": {},
   "outputs": [],
   "source": [
    "codes = []"
   ]
  },
  {
   "cell_type": "code",
   "execution_count": 6,
   "id": "79f1ae42",
   "metadata": {},
   "outputs": [],
   "source": [
    "for symbol in symbols:\n",
    "     codes.append(ord(symbol))"
   ]
  },
  {
   "cell_type": "code",
   "execution_count": 7,
   "id": "7ea6866c",
   "metadata": {},
   "outputs": [
    {
     "data": {
      "text/plain": [
       "[36, 162, 163, 165, 8364, 164]"
      ]
     },
     "execution_count": 7,
     "metadata": {},
     "output_type": "execute_result"
    }
   ],
   "source": [
    "codes"
   ]
  },
  {
   "cell_type": "code",
   "execution_count": 8,
   "id": "af73b270",
   "metadata": {},
   "outputs": [
    {
     "data": {
      "text/plain": [
       "[36, 162, 163, 165, 8364, 164]"
      ]
     },
     "execution_count": 8,
     "metadata": {},
     "output_type": "execute_result"
    }
   ],
   "source": [
    "symbols = '$¢£¥€¤'\n",
    "codes = [ord(symbol) for symbol in symbols]\n",
    "codes"
   ]
  },
  {
   "cell_type": "code",
   "execution_count": 11,
   "id": "57c9d04a",
   "metadata": {},
   "outputs": [],
   "source": [
    "x = 'ABC'\n",
    "codes = [ord(x) for x in x]"
   ]
  },
  {
   "cell_type": "code",
   "execution_count": 12,
   "id": "42c0889f",
   "metadata": {},
   "outputs": [
    {
     "data": {
      "text/plain": [
       "'ABC'"
      ]
     },
     "execution_count": 12,
     "metadata": {},
     "output_type": "execute_result"
    }
   ],
   "source": [
    "x"
   ]
  },
  {
   "cell_type": "code",
   "execution_count": 13,
   "id": "9cfe80eb",
   "metadata": {},
   "outputs": [
    {
     "data": {
      "text/plain": [
       "[65, 66, 67]"
      ]
     },
     "execution_count": 13,
     "metadata": {},
     "output_type": "execute_result"
    }
   ],
   "source": [
    "codes"
   ]
  },
  {
   "cell_type": "markdown",
   "id": "2815bbfd",
   "metadata": {},
   "source": [
    "### Local Scope Within Comprehensions and Generator Expressions"
   ]
  },
  {
   "cell_type": "code",
   "execution_count": 14,
   "id": "c3943bb9",
   "metadata": {},
   "outputs": [
    {
     "data": {
      "text/plain": [
       "67"
      ]
     },
     "execution_count": 14,
     "metadata": {},
     "output_type": "execute_result"
    }
   ],
   "source": [
    "codes = [last := ord(c) for c in x]\n",
    "last"
   ]
  },
  {
   "cell_type": "code",
   "execution_count": 16,
   "id": "992b0988",
   "metadata": {},
   "outputs": [
    {
     "ename": "NameError",
     "evalue": "name 'c' is not defined",
     "output_type": "error",
     "traceback": [
      "\u001b[1;31m------------------------------------------------------------------------\u001b[0m",
      "\u001b[1;31mNameError\u001b[0m                              Traceback (most recent call last)",
      "Input \u001b[1;32mIn [16]\u001b[0m, in \u001b[0;36m<cell line: 1>\u001b[1;34m()\u001b[0m\n\u001b[1;32m----> 1\u001b[0m \u001b[43mc\u001b[49m\n",
      "\u001b[1;31mNameError\u001b[0m: name 'c' is not defined"
     ]
    }
   ],
   "source": [
    "c"
   ]
  },
  {
   "cell_type": "markdown",
   "id": "198d191a",
   "metadata": {},
   "source": [
    "### Listcomps Versus map and filter"
   ]
  },
  {
   "cell_type": "code",
   "execution_count": 17,
   "id": "2f470f3a",
   "metadata": {},
   "outputs": [
    {
     "data": {
      "text/plain": [
       "[162, 163, 165, 8364, 164]"
      ]
     },
     "execution_count": 17,
     "metadata": {},
     "output_type": "execute_result"
    }
   ],
   "source": [
    ">>> symbols = '$¢£¥€¤'\n",
    ">>> beyond_ascii = [ord(s) for s in symbols if ord(s) > 127]\n",
    ">>> beyond_ascii"
   ]
  },
  {
   "cell_type": "code",
   "execution_count": 18,
   "id": "bb07d3d7",
   "metadata": {},
   "outputs": [
    {
     "data": {
      "text/plain": [
       "[162, 163, 165, 8364, 164]"
      ]
     },
     "execution_count": 18,
     "metadata": {},
     "output_type": "execute_result"
    }
   ],
   "source": [
    ">>> beyond_ascii = list(filter(lambda c: c > 127, map(ord, symbols)))\n",
    ">>> beyond_ascii"
   ]
  },
  {
   "cell_type": "code",
   "execution_count": 20,
   "id": "159ef0c9",
   "metadata": {},
   "outputs": [
    {
     "data": {
      "text/plain": [
       "[('black', 'S'),\n",
       " ('black', 'M'),\n",
       " ('black', 'L'),\n",
       " ('white', 'S'),\n",
       " ('white', 'M'),\n",
       " ('white', 'L')]"
      ]
     },
     "execution_count": 20,
     "metadata": {},
     "output_type": "execute_result"
    }
   ],
   "source": [
    ">>> colors = ['black', 'white']\n",
    ">>> sizes = ['S', 'M', 'L']\n",
    ">>> tshirts = [(color, size) for color in colors for size in sizes]\n",
    ">>> tshirts"
   ]
  },
  {
   "cell_type": "code",
   "execution_count": 23,
   "id": "74edf8a2",
   "metadata": {},
   "outputs": [
    {
     "name": "stdout",
     "output_type": "stream",
     "text": [
      "('black', 'S')\n",
      "('black', 'M')\n",
      "('black', 'L')\n",
      "('white', 'S')\n",
      "('white', 'M')\n",
      "('white', 'L')\n"
     ]
    }
   ],
   "source": [
    "for color in colors:\n",
    "    for size in sizes:\n",
    "        print((color, size))"
   ]
  },
  {
   "cell_type": "code",
   "execution_count": 24,
   "id": "6394d382",
   "metadata": {},
   "outputs": [],
   "source": [
    "tshirts = [(color, size) for size in sizes for color in colors]"
   ]
  },
  {
   "cell_type": "code",
   "execution_count": 25,
   "id": "019ad302",
   "metadata": {},
   "outputs": [
    {
     "data": {
      "text/plain": [
       "[('black', 'S'),\n",
       " ('white', 'S'),\n",
       " ('black', 'M'),\n",
       " ('white', 'M'),\n",
       " ('black', 'L'),\n",
       " ('white', 'L')]"
      ]
     },
     "execution_count": 25,
     "metadata": {},
     "output_type": "execute_result"
    }
   ],
   "source": [
    "tshirts"
   ]
  },
  {
   "cell_type": "code",
   "execution_count": 26,
   "id": "b49f90a3",
   "metadata": {},
   "outputs": [
    {
     "data": {
      "text/plain": [
       "array('I', [36, 162, 163, 165, 8364, 164])"
      ]
     },
     "execution_count": 26,
     "metadata": {},
     "output_type": "execute_result"
    }
   ],
   "source": [
    ">>> symbols = '$¢£¥€¤'\n",
    ">>> tuple(ord(symbol) for symbol in symbols)\n",
    ">>> import array\n",
    ">>> array.array('I', (ord(symbol) for symbol in symbols))"
   ]
  },
  {
   "cell_type": "code",
   "execution_count": 27,
   "id": "0cf5b561",
   "metadata": {},
   "outputs": [
    {
     "name": "stdout",
     "output_type": "stream",
     "text": [
      "black S\n",
      "black M\n",
      "black L\n",
      "white S\n",
      "white M\n",
      "white L\n"
     ]
    }
   ],
   "source": [
    "#Cartesian product in a generator expression\n",
    ">>> colors = ['black', 'white']\n",
    ">>> sizes = ['S', 'M', 'L']\n",
    ">>> for tshirt in (f'{c} {s}' for c in colors for s in sizes):\n",
    "     print(tshirt)"
   ]
  },
  {
   "cell_type": "code",
   "execution_count": 28,
   "id": "f73fe74e",
   "metadata": {},
   "outputs": [
    {
     "data": {
      "text/plain": [
       "<function ord(c, /)>"
      ]
     },
     "execution_count": 28,
     "metadata": {},
     "output_type": "execute_result"
    }
   ],
   "source": [
    "ord"
   ]
  },
  {
   "cell_type": "markdown",
   "id": "28f78d2c",
   "metadata": {},
   "source": [
    "## Tuples Are Not Just Immutable Lists"
   ]
  },
  {
   "cell_type": "markdown",
   "id": "1f30e9b7",
   "metadata": {},
   "source": [
    "Latitude and longitude of the Los Angeles International Airport.\n",
    "\n",
    "Data about Tokyo: name, year, population (thousands), population change (%), and area (km²).\n",
    "\n",
    "A list of tuples of the form (country_code, passport_number)."
   ]
  },
  {
   "cell_type": "code",
   "execution_count": 35,
   "id": "01d3fa64",
   "metadata": {},
   "outputs": [],
   "source": [
    ">>> lax_coordinates = (33.9425, -118.408056)\n",
    ">>> city, year, pop, chg, area = ('Tokyo', 2003, 32_450, 0.66, 8014)\n",
    ">>> traveler_ids = [('USA', '31195855'), ('BRA', 'CE342567'), ('ESP', 'XDA205856')]"
   ]
  },
  {
   "cell_type": "markdown",
   "id": "a99460eb",
   "metadata": {},
   "source": [
    "The % formatting operator understands tuples and treats each item as a separate\n",
    "field."
   ]
  },
  {
   "cell_type": "code",
   "execution_count": 33,
   "id": "439cec89",
   "metadata": {},
   "outputs": [
    {
     "name": "stdout",
     "output_type": "stream",
     "text": [
      "BRA/CE342567\n",
      "ESP/XDA205856\n",
      "USA/31195855\n"
     ]
    }
   ],
   "source": [
    "for passport in sorted(traveler_ids):\n",
    "    print('%s/%s' % passport)"
   ]
  },
  {
   "cell_type": "markdown",
   "id": "b3b058f3",
   "metadata": {},
   "source": [
    "The for loop knows how to retrieve the items of a tuple separately—this is called\n",
    "“unpacking.” Here we are not interested in the second item, so we assign it to _, a\n",
    "dummy variable."
   ]
  },
  {
   "cell_type": "code",
   "execution_count": 34,
   "id": "ce09d7a2",
   "metadata": {},
   "outputs": [
    {
     "name": "stdout",
     "output_type": "stream",
     "text": [
      "USA\n",
      "BRA\n",
      "ESP\n"
     ]
    }
   ],
   "source": [
    "for country, _ in traveler_ids:\n",
    "    print(country)"
   ]
  },
  {
   "cell_type": "markdown",
   "id": "c144bdb0",
   "metadata": {},
   "source": [
    "## Tuples as Immutable Lists"
   ]
  },
  {
   "cell_type": "code",
   "execution_count": 36,
   "id": "dcceab9a",
   "metadata": {},
   "outputs": [],
   "source": [
    ">>> a = (10, 'alpha', [1, 2])\n",
    ">>> b = (10, 'alpha', [1, 2])"
   ]
  },
  {
   "cell_type": "code",
   "execution_count": 37,
   "id": "0965a026",
   "metadata": {},
   "outputs": [
    {
     "data": {
      "text/plain": [
       "True"
      ]
     },
     "execution_count": 37,
     "metadata": {},
     "output_type": "execute_result"
    }
   ],
   "source": [
    "a == b"
   ]
  },
  {
   "cell_type": "code",
   "execution_count": 38,
   "id": "d6f191b0",
   "metadata": {},
   "outputs": [
    {
     "data": {
      "text/plain": [
       "False"
      ]
     },
     "execution_count": 38,
     "metadata": {},
     "output_type": "execute_result"
    }
   ],
   "source": [
    ">>> b[-1].append(99)\n",
    ">>> a == b"
   ]
  },
  {
   "cell_type": "code",
   "execution_count": 39,
   "id": "d2eb6431",
   "metadata": {},
   "outputs": [],
   "source": [
    "def fixed(o):\n",
    "    try:\n",
    "        hash(o)\n",
    "    except TypeError:\n",
    "        return False\n",
    "    return True"
   ]
  },
  {
   "cell_type": "code",
   "execution_count": 40,
   "id": "7b636041",
   "metadata": {},
   "outputs": [
    {
     "data": {
      "text/plain": [
       "True"
      ]
     },
     "execution_count": 40,
     "metadata": {},
     "output_type": "execute_result"
    }
   ],
   "source": [
    ">>> tf = (10, 'alpha', (1, 2))\n",
    ">>> tm = (10, 'alpha', [1, 2])\n",
    ">>> fixed(tf)"
   ]
  },
  {
   "cell_type": "code",
   "execution_count": 41,
   "id": "6b433d02",
   "metadata": {},
   "outputs": [
    {
     "data": {
      "text/plain": [
       "False"
      ]
     },
     "execution_count": 41,
     "metadata": {},
     "output_type": "execute_result"
    }
   ],
   "source": [
    ">>> fixed(tm)"
   ]
  },
  {
   "cell_type": "markdown",
   "id": "385b1e2e",
   "metadata": {},
   "source": [
    "## Unpacking Sequences and Iterables"
   ]
  },
  {
   "cell_type": "code",
   "execution_count": 42,
   "id": "c455e120",
   "metadata": {},
   "outputs": [
    {
     "data": {
      "text/plain": [
       "33.9425"
      ]
     },
     "execution_count": 42,
     "metadata": {},
     "output_type": "execute_result"
    }
   ],
   "source": [
    ">>> lax_coordinates = (33.9425, -118.408056)\n",
    ">>> latitude, longitude = lax_coordinates # unpacking\n",
    ">>> latitude"
   ]
  },
  {
   "cell_type": "code",
   "execution_count": 43,
   "id": "1cc7d30a",
   "metadata": {},
   "outputs": [
    {
     "data": {
      "text/plain": [
       "-118.408056"
      ]
     },
     "execution_count": 43,
     "metadata": {},
     "output_type": "execute_result"
    }
   ],
   "source": [
    ">>> longitude"
   ]
  },
  {
   "cell_type": "code",
   "execution_count": 44,
   "id": "fa22d2ad",
   "metadata": {},
   "outputs": [],
   "source": [
    ">>> b, a = a, b"
   ]
  },
  {
   "cell_type": "code",
   "execution_count": 46,
   "id": "6b036e0b",
   "metadata": {},
   "outputs": [
    {
     "data": {
      "text/plain": [
       "(2, 4)"
      ]
     },
     "execution_count": 46,
     "metadata": {},
     "output_type": "execute_result"
    }
   ],
   "source": [
    ">>> divmod(20, 8)"
   ]
  },
  {
   "cell_type": "code",
   "execution_count": 47,
   "id": "58154db8",
   "metadata": {},
   "outputs": [
    {
     "data": {
      "text/plain": [
       "(2, 4)"
      ]
     },
     "execution_count": 47,
     "metadata": {},
     "output_type": "execute_result"
    }
   ],
   "source": [
    ">>> t = (20, 8)\n",
    ">>> divmod(*t)"
   ]
  },
  {
   "cell_type": "code",
   "execution_count": 48,
   "id": "f1019897",
   "metadata": {},
   "outputs": [
    {
     "data": {
      "text/plain": [
       "(2, 4)"
      ]
     },
     "execution_count": 48,
     "metadata": {},
     "output_type": "execute_result"
    }
   ],
   "source": [
    ">>> quotient, remainder = divmod(*t)\n",
    ">>> quotient, remainder"
   ]
  },
  {
   "cell_type": "code",
   "execution_count": 49,
   "id": "da3e4749",
   "metadata": {},
   "outputs": [],
   "source": [
    ">>> import os\n",
    ">>> _, filename = os.path.split('/home/luciano/.ssh/id_rsa.pub')"
   ]
  },
  {
   "cell_type": "code",
   "execution_count": 51,
   "id": "6b7c6609",
   "metadata": {},
   "outputs": [
    {
     "data": {
      "text/plain": [
       "'id_rsa.pub'"
      ]
     },
     "execution_count": 51,
     "metadata": {},
     "output_type": "execute_result"
    }
   ],
   "source": [
    ">>> filename"
   ]
  },
  {
   "cell_type": "code",
   "execution_count": null,
   "id": "46770d26",
   "metadata": {},
   "outputs": [],
   "source": []
  }
 ],
 "metadata": {
  "kernelspec": {
   "display_name": "Python 3",
   "language": "python",
   "name": "python3"
  },
  "language_info": {
   "codemirror_mode": {
    "name": "ipython",
    "version": 3
   },
   "file_extension": ".py",
   "mimetype": "text/x-python",
   "name": "python",
   "nbconvert_exporter": "python",
   "pygments_lexer": "ipython3",
   "version": "3.10.0"
  }
 },
 "nbformat": 4,
 "nbformat_minor": 5
}
